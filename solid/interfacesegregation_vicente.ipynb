{
 "cells": [
  {
   "cell_type": "code",
   "execution_count": 1,
   "metadata": {},
   "outputs": [
    {
     "name": "stdout",
     "output_type": "stream",
     "text": [
      "Manager is managing tasks.\n"
     ]
    }
   ],
   "source": [
    "from abc import ABC, abstractmethod\n",
    "\n",
    "class Worker(ABC):\n",
    "    @abstractmethod\n",
    "    def work(self):\n",
    "        pass\n",
    "\n",
    "class Manager(Worker):\n",
    "    def work(self):\n",
    "        return \"Manager is managing tasks.\"\n",
    "\n",
    "# Función que toma un objeto Worker y llama al método work\n",
    "def perform_work(worker):\n",
    "    return worker.work()\n",
    "\n",
    "# Ejemplo Bueno\n",
    "manager = Manager()\n",
    "print(perform_work(manager))  # Salida: Manager is managing tasks.\n"
   ]
  },
  {
   "cell_type": "code",
   "execution_count": 2,
   "metadata": {},
   "outputs": [
    {
     "name": "stdout",
     "output_type": "stream",
     "text": [
      "Manager is managing tasks.\n",
      "Manager is attending meetings.\n"
     ]
    }
   ],
   "source": [
    "class Worker:\n",
    "    def work(self):\n",
    "        return \"Worker is working.\"\n",
    "\n",
    "class Manager(Worker):\n",
    "    def work(self):\n",
    "        return \"Manager is managing tasks.\"\n",
    "\n",
    "    def attend_meetings(self):\n",
    "        return \"Manager is attending meetings.\"\n",
    "\n",
    "# Función que toma un objeto Worker y llama al método work\n",
    "def perform_work(worker):\n",
    "    return worker.work()\n",
    "\n",
    "# Ejemplo Malo\n",
    "manager = Manager()\n",
    "print(perform_work(manager))  # Salida: Manager is managing tasks.\n",
    "print(manager.attend_meetings())  # Salida: Manager is attending meetings.\n"
   ]
  }
 ],
 "metadata": {
  "kernelspec": {
   "display_name": "Python 3",
   "language": "python",
   "name": "python3"
  },
  "language_info": {
   "codemirror_mode": {
    "name": "ipython",
    "version": 3
   },
   "file_extension": ".py",
   "mimetype": "text/x-python",
   "name": "python",
   "nbconvert_exporter": "python",
   "pygments_lexer": "ipython3",
   "version": "3.11.9"
  }
 },
 "nbformat": 4,
 "nbformat_minor": 2
}
