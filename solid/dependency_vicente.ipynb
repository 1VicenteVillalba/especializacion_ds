{
 "cells": [
  {
   "cell_type": "code",
   "execution_count": null,
   "metadata": {},
   "outputs": [],
   "source": [
    "from abc import ABC, abstractmethod\n",
    "\n",
    "class Database(ABC):\n",
    "    @abstractmethod\n",
    "    def connect(self):\n",
    "        pass\n",
    "\n",
    "class MySQLDatabase(Database):\n",
    "    def connect(self):\n",
    "        return \"Connected to MySQL database.\"\n",
    "\n",
    "# Clase de alto nivel que utiliza una base de datos\n",
    "class DataManager:\n",
    "    def __init__(self, database):\n",
    "        self.database = database\n",
    "\n",
    "    def perform_operation(self):\n",
    "        return self.database.connect()\n",
    "\n",
    "# Ejemplo Bueno\n",
    "mysql_db = MySQLDatabase()\n",
    "data_manager = DataManager(mysql_db)\n",
    "print(data_manager.perform_operation())  # Salida: Connected to MySQL database.\n"
   ]
  },
  {
   "cell_type": "code",
   "execution_count": null,
   "metadata": {},
   "outputs": [],
   "source": [
    "class MySQLDatabase:\n",
    "    def connect(self):\n",
    "        return \"Connected to MySQL database.\"\n",
    "\n",
    "# Clase de alto nivel que utiliza una base de datos\n",
    "class DataManager:\n",
    "    def __init__(self):\n",
    "        self.database = MySQLDatabase()\n",
    "\n",
    "    def perform_operation(self):\n",
    "        return self.database.connect()\n",
    "\n",
    "# Ejemplo Malo\n",
    "data_manager = DataManager()\n",
    "print(data_manager.perform_operation())  # Salida: Connected to MySQL database.\n"
   ]
  }
 ],
 "metadata": {
  "language_info": {
   "name": "python"
  }
 },
 "nbformat": 4,
 "nbformat_minor": 2
}
