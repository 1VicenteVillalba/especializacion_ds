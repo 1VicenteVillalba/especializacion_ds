{
 "cells": [
  {
   "cell_type": "code",
   "execution_count": 2,
   "metadata": {},
   "outputs": [
    {
     "name": "stdout",
     "output_type": "stream",
     "text": [
      "Flying\n",
      "Flying\n"
     ]
    }
   ],
   "source": [
    "class Bird:\n",
    "    def fly(self):\n",
    "        return \"Flying\"\n",
    "\n",
    "class Duck(Bird):\n",
    "    def quack(self):\n",
    "        return \"Quack\"\n",
    "\n",
    "# Función que toma un objeto Bird y llama al método fly\n",
    "def bird_fly(bird):\n",
    "    return bird.fly()\n",
    "\n",
    "# Ejemplo Bueno\n",
    "bird = Bird()\n",
    "duck = Duck()\n",
    "\n",
    "print(bird_fly(bird))  # Salida: Flying\n",
    "print(bird_fly(duck))  # Salida: Flying\n"
   ]
  },
  {
   "cell_type": "code",
   "execution_count": 1,
   "metadata": {},
   "outputs": [
    {
     "name": "stdout",
     "output_type": "stream",
     "text": [
      "Flying\n",
      "Flying and quacking\n"
     ]
    }
   ],
   "source": [
    "class Bird:\n",
    "    def fly(self):\n",
    "        return \"Flying\"\n",
    "\n",
    "class Duck(Bird):\n",
    "    def fly(self):\n",
    "        return \"Flying and quacking\"\n",
    "\n",
    "# Función que toma un objeto Bird y llama al método fly\n",
    "def bird_fly(bird):\n",
    "    return bird.fly()\n",
    "\n",
    "# Ejemplo Malo\n",
    "bird = Bird()\n",
    "duck = Duck()\n",
    "\n",
    "print(bird_fly(bird))  # Salida: Flying\n",
    "print(bird_fly(duck))  # Salida: Flying and quacking\n"
   ]
  }
 ],
 "metadata": {
  "kernelspec": {
   "display_name": "Python 3",
   "language": "python",
   "name": "python3"
  },
  "language_info": {
   "codemirror_mode": {
    "name": "ipython",
    "version": 3
   },
   "file_extension": ".py",
   "mimetype": "text/x-python",
   "name": "python",
   "nbconvert_exporter": "python",
   "pygments_lexer": "ipython3",
   "version": "3.11.9"
  }
 },
 "nbformat": 4,
 "nbformat_minor": 2
}
