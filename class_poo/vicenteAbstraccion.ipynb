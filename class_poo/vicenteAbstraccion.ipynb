{
 "cells": [
  {
   "cell_type": "code",
   "execution_count": null,
   "metadata": {},
   "outputs": [],
   "source": [
    "#Abstraccion.pyVicente\n",
    "\n",
    "\n",
    "class ArriendoApartamento:\n",
    "    def __init__(self, numero_habitaciones: int,numero_banos: int, numero_pisos: int, numero_albercas: int, numero_cocinas: int,) -> None:\n",
    "        self.numero_habitaciones = numero_habitaciones\n",
    "        self.numero_banos = numero_banos\n",
    "        self.numero_pisos = numero_pisos\n",
    "        self.numero_albercas = numero_albercas\n",
    "        self.numero_cocinas = numero_cocinas\n",
    "\n",
    "    def apar(self) -> None:\n",
    "        print(f\"El numero de habitacines es {self.numero_habitaciones} #h\")\n",
    "\n",
    "    def __str__(self) -> str:\n",
    "        return f\"{self.numero_habitaciones} #h, {self.numero_banos} #b, {self.numero_pisos}#pi, {self.numero_albercas}#alb, {self.numero_cocinas}#coc\"\n"
   ]
  }
 ],
 "metadata": {
  "language_info": {
   "name": "python"
  }
 },
 "nbformat": 4,
 "nbformat_minor": 2
}
