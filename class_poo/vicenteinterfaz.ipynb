{
 "cells": [
  {
   "cell_type": "code",
   "execution_count": null,
   "metadata": {},
   "outputs": [],
   "source": [
    "#interfaz.pyvicente\n",
    "class SocialMediaPlatform:\n",
    "    def __init__(self, username):\n",
    "        self.username = username\n",
    "\n",
    "    def post(self, content):\n",
    "        return f\"Publicaste en {self.platform}: '{content}'\"\n",
    "\n",
    "    def like(self, post_id):\n",
    "        return f\"Diste like al post {post_id}\"\n",
    "\n",
    "    def comment(self, post_id, comment):\n",
    "        return f\"Comentaste en el post {post_id}: '{comment}'\"\n",
    "\n",
    "    def share(self, post_id):\n",
    "        return f\"Compartiste el post {post_id}\"\n",
    "\n",
    "class Facebook(SocialMediaPlatform):\n",
    "    def __init__(self, username):\n",
    "        super().__init__(username)\n",
    "        self.platform = \"Facebook\"\n",
    "\n",
    "class Twitter(SocialMediaPlatform):\n",
    "    def __init__(self, username):\n",
    "        super().__init__(username)\n",
    "        self.platform = \"Twitter\"\n",
    "\n",
    "# Uso de las clases\n",
    "mi_facebook = Facebook(\"mi_usuario\")\n",
    "mi_twitter = Twitter(\"mi_usuario\")\n",
    "\n",
    "print(mi_facebook.post(\"¡Hola, Facebook!\"))\n",
    "print(mi_twitter.post(\"¡Hola, Twitter!\"))\n",
    "print(mi_facebook.like(123))\n",
    "print(mi_twitter.comment(456, \"¡Gran publicación!\"))\n",
    "print(mi_facebook.share(789))\n"
   ]
  }
 ],
 "metadata": {
  "language_info": {
   "name": "python"
  }
 },
 "nbformat": 4,
 "nbformat_minor": 2
}
