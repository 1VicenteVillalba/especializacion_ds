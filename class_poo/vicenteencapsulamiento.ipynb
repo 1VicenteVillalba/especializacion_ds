{
 "cells": [
  {
   "cell_type": "code",
   "execution_count": null,
   "metadata": {},
   "outputs": [],
   "source": [
    "#Encapsulamiento.pyVicente\n",
    "\n",
    "class Empleado:\n",
    "    def __init__(self, nombre, salario):\n",
    "        self.__nombre = nombre\n",
    "        self.__salario = salario\n",
    "\n",
    "\n",
    "    def get_nombre(self):\n",
    "        return self.__nombre\n",
    "\n",
    "    def get_salario(self):\n",
    "        return self.__salario\n",
    "\n",
    "\n",
    "    def set_nombre(self, nombre):\n",
    "        self.__nombre = nombre\n",
    "\n",
    "    def set_salario(self, salario):\n",
    "        if salario > 0:\n",
    "            self.__salario = salario\n",
    "        else:\n",
    "            print(\"El salario debe ser un valor positivo.\")\n",
    "\n",
    "empleado1 = Empleado(\"Juan\", 3000)\n",
    "\n",
    "print(\"Nombre del empleado:\", empleado1.get_nombre())\n",
    "print(\"Salario del empleado:\", empleado1.get_salario())\n",
    "\n",
    "empleado1.set_nombre(\"Pedro\")\n",
    "empleado1.set_salario(3500)\n",
    "\n",
    "print(\"Nuevo nombre del empleado:\", empleado1.get_nombre())\n",
    "print(\"Nuevo salario del empleado:\", empleado1.get_salario())\n"
   ]
  }
 ],
 "metadata": {
  "language_info": {
   "name": "python"
  }
 },
 "nbformat": 4,
 "nbformat_minor": 2
}
