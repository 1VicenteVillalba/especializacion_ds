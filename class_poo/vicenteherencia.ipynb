{
 "cells": [
  {
   "cell_type": "code",
   "execution_count": null,
   "metadata": {},
   "outputs": [],
   "source": [
    "#HerenciaVicente.ipynb\n",
    "class Figura:\n",
    "    def __init__(self, color):\n",
    "        self.color = color\n",
    "\n",
    "    def area(self):\n",
    "        pass\n",
    "\n",
    "class Cuadrado(Figura):\n",
    "    def __init__(self, color, lado):\n",
    "        super().__init__(color)\n",
    "        self.lado = lado\n",
    "\n",
    "    def area(self):\n",
    "        return self.lado ** 2\n",
    "\n",
    "class Circulo(Figura):\n",
    "    def __init__(self, color, radio):\n",
    "        super().__init__(color)\n",
    "        self.radio = radio\n",
    "\n",
    "    def area(self):\n",
    "        return 3.14159 * self.radio ** 2\n",
    "\n",
    "# Uso de las clases\n",
    "mi_cuadrado = Cuadrado(\"Rojo\", 5)\n",
    "mi_circulo = Circulo(\"Azul\", 3)\n",
    "\n",
    "print(\"Área del cuadrado:\", mi_cuadrado.area())\n",
    "print(\"Área del círculo:\", mi_circulo.area())\n",
    "\n"
   ]
  }
 ],
 "metadata": {
  "language_info": {
   "name": "python"
  }
 },
 "nbformat": 4,
 "nbformat_minor": 2
}
