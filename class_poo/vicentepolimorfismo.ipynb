{
 "cells": [
  {
   "cell_type": "code",
   "execution_count": null,
   "metadata": {},
   "outputs": [],
   "source": [
    "#Polimorfismo.pyvicente\n",
    "class RedSocial:\n",
    "    def publicar(self, contenido):\n",
    "        pass\n",
    "\n",
    "class Facebook(RedSocial):\n",
    "    def publicar(self, contenido):\n",
    "        return f\"Publicando en Facebook: '{contenido}'\"\n",
    "\n",
    "class Twitter(RedSocial):\n",
    "    def publicar(self, contenido):\n",
    "        return f\"Publicando en Twitter: '{contenido}'\"\n",
    "\n",
    "class Instagram(RedSocial):\n",
    "    def publicar(self, contenido):\n",
    "        return f\"Publicando en Instagram: '{contenido}'\"\n",
    "\n",
    "class LinkedIn(RedSocial):\n",
    "    def publicar(self, contenido):\n",
    "        return f\"Publicando en LinkedIn: '{contenido}'\"\n",
    "\n",
    "def publicar_en_red_social(red_social, contenido):\n",
    "    print(red_social.publicar(contenido))\n",
    "\n",
    "facebook = Facebook()\n",
    "twitter = Twitter()\n",
    "instagram = Instagram()\n",
    "linkedin = LinkedIn()\n",
    "\n",
    "publicar_en_red_social(facebook, \"¡Hola Vicente desde Facebook!\")\n",
    "publicar_en_red_social(twitter, \"¡Hola mi amor desde Twitter!\")\n",
    "publicar_en_red_social(instagram, \"¡Hola mi vida desde Instagram!\")\n",
    "publicar_en_red_social(linkedin, \"¡Hola eres mi mundo desde LinkedIn!\")\n",
    "\n"
   ]
  }
 ],
 "metadata": {
  "language_info": {
   "name": "python"
  }
 },
 "nbformat": 4,
 "nbformat_minor": 2
}
